{
  "nbformat": 4,
  "nbformat_minor": 0,
  "metadata": {
    "colab": {
      "name": "L1.ipynb",
      "provenance": [],
      "authorship_tag": "ABX9TyPPIsybdtWDkhKwTZohZrt0",
      "include_colab_link": true
    },
    "kernelspec": {
      "name": "python3",
      "display_name": "Python 3"
    },
    "language_info": {
      "name": "python"
    }
  },
  "cells": [
    {
      "cell_type": "markdown",
      "metadata": {
        "id": "view-in-github",
        "colab_type": "text"
      },
      "source": [
        "<a href=\"https://colab.research.google.com/github/vicentecerda/Syllabus/blob/master/L1.ipynb\" target=\"_parent\"><img src=\"https://colab.research.google.com/assets/colab-badge.svg\" alt=\"Open In Colab\"/></a>"
      ]
    },
    {
      "cell_type": "markdown",
      "source": [
        "Primero importo las librerias y creo una función que genera una matriz con los elementos mencionados, y además crea la zona segura.\n",
        "Luego creo una función que calcula la distancia entre dos puntos en la matriz.\n",
        "Después creo la función que agrega los caracoles al mapa.\n",
        "Y finalmente hay un intento de crear una función que simula un segundo, esta parte no fue lograda\n"
      ],
      "metadata": {
        "id": "DnfKSSejwyDy"
      }
    },
    {
      "cell_type": "code",
      "execution_count": 1,
      "metadata": {
        "id": "1JATHRgAwTbr"
      },
      "outputs": [],
      "source": [
        "import random\n",
        "import time\n",
        "\n",
        "\n",
        "def crear_matriz():                 \n",
        "  y = random.randint(10,15)\n",
        "  x = random.randint(10,15)\n",
        "  obstaculos = random.randint(5,8)\n",
        "  diamantes = random.randint(5,8)\n",
        "  monedas = random.randint(5,8)\n",
        "  cofres = random.randint(5,8)\n",
        "  velocidades = random.randint(5,8)\n",
        "\n",
        "  lista_matriz = []\n",
        "  for i in range(y):\n",
        "    lista_fila = []\n",
        "    for j in range(x):\n",
        "      lista_fila.append(\"_\")\n",
        "    lista_matriz.append(lista_fila)\n",
        "\n",
        "  ##Ahora se crea la zona segura\n",
        "\n",
        "  lista_matriz[y//2-1][x//2]=\"Z\"\n",
        "  lista_matriz[y//2-1][x//2+1]=\"Z\"\n",
        "  lista_matriz[y//2][x//2]=\"Z\"\n",
        "  lista_matriz[y//2][x//2+1]=\"Z\"\n",
        "  lista_matriz[y//2-1][x//2-1]=\"Z\"\n",
        "  lista_matriz[y//2-1][x//2-2]=\"Z\"\n",
        "  lista_matriz[y//2][x//2-1]=\"Z\"\n",
        "  lista_matriz[y//2][x//2-2]=\"Z\"\n",
        "\n",
        "  ## Luego se agregan los elementos al mapa\n",
        "  ## Para eso, lo primero que hago es crear una lista con las letras de los distintos elementos\n",
        " ## Y una lista con la cantidad deseada para cada elemmento \n",
        "\n",
        "  elementos = [\"X\",\"D\",\"M\",\"F\",\"V\"]\n",
        "  elementos_disponibles = [obstaculos,diamantes,monedas,cofres,velocidades]\n",
        "\n",
        "  ## Se crean listas que contienen las posiciones de los elementos, para posteriormente ayudar a que los caracoles se dirijan en esa direción\n",
        "  posiciones_elementos = [[],[],[],[],[],[]]\n",
        "  posiciones_elementos[5].append([y//2-1,x//2])\n",
        "  posiciones_elementos[5].append([y//2-1,x//2+1])\n",
        "  posiciones_elementos[5].append([y//2,x//2])\n",
        "  posiciones_elementos[5].append([y//2,x//2+1])\n",
        "  posiciones_elementos[5].append([y//2-1,x//2-1])\n",
        "  posiciones_elementos[5].append([y//2-1,x//2-2])\n",
        "  posiciones_elementos[5].append([y//2,x//2-1])\n",
        "  posiciones_elementos[5].append([y//2,x//2-2])\n",
        "      \n",
        "      \n",
        "    ## Ahora se agregan los elementos de la siguiente manera\n",
        "\n",
        "      \n",
        "  for i in range(len(elementos)):\n",
        "    while elementos_disponibles[i]>0:\n",
        "    \n",
        "      coordenada_x = random.randint(0,x-1)\n",
        "      coordenada_y = random.randint(0,y-1)\n",
        "        \n",
        "      if lista_matriz[coordenada_y][coordenada_x] == \"_\":\n",
        "        lista_matriz[coordenada_y][coordenada_x] = elementos[i] \n",
        "        posiciones_elementos[i].append([coordenada_y,coordenada_x])  ## esto agrega las coordenadas a la lista de posiciones de los elementos\n",
        "      elementos_disponibles[i]-=1\n",
        "          \n",
        "\n",
        "  return lista_matriz,posiciones_elementos\n",
        "\n",
        "def imprimir_matriz(matriz):\n",
        "  for item in matriz:\n",
        "    print(item)\n",
        "\n",
        "def agregar_caracoles(mapa,lista):\n",
        "    \n",
        "  for j in range(3):\n",
        "    if j == 0:\n",
        "        for i in range(random.randint(2,5)):\n",
        "            \n",
        "            objeto = Caracol_rojo(i)\n",
        "            posicion = objeto.posicion_inicial(mapa)\n",
        "            mapa[posicion[0]][posicion[1]] = f\"{objeto.letra_color}\"\n",
        "            objeto.historial_posiciones.append(posicion)\n",
        "            lista.append(objeto)\n",
        "            \n",
        "    elif j == 1:\n",
        "        for i in range(random.randint(2,5)):\n",
        "            objeto = Caracol_amarillo(i)\n",
        "            posicion = objeto.posicion_inicial(mapa)\n",
        "            mapa[posicion[0]][posicion[1]] = f\"{objeto.letra_color}\"\n",
        "            objeto.historial_posiciones.append(posicion)\n",
        "            lista.append(objeto)\n",
        "            \n",
        "    elif j == 2:\n",
        "        for i in range(random.randint(2,5)):\n",
        "            objeto = Caracol_cafe(i)\n",
        "            posicion = objeto.posicion_inicial(mapa)\n",
        "            mapa[posicion[0]][posicion[1]] = f\"{objeto.letra_color}\"\n",
        "            objeto.historial_posiciones.append(posicion)\n",
        "            lista.append(objeto)\n",
        "            \n",
        "    \n",
        "  return mapa\n",
        "\n",
        "def distancia(i1,i2):\n",
        "    return ((i1[0]-i2[0])**2+(i1[1]-i2[1])**2)**0.5\n",
        "\n",
        "\n",
        "def simular_ronda(mapa,caracoles,posiciones_elementos,segundo_actual):\n",
        "\n",
        "  ## Primero crearé una función dentro de esta función, que definirá cuales la posición a la que se quiere mover un caracol\n",
        "  ## Para que funcione correctamente, debe recibir un objeto de la clase de Caracol y un lista con las posiciones de los elementos que \n",
        "  ## estamos buscando\n",
        "  def proxima_posicion_tentativa(caracol,posiciones_elementos):\n",
        "    distancia_mas_corta = 10000\n",
        "    posicion_actual = caracol.historial_posiciones[-1]\n",
        "    posicion_elemento_mas_cercano = []\n",
        "\n",
        "    for i in range(len(posiciones_elementos)):\n",
        "      distancia_aux = distancia(posiciones_elementos[i],posicion_actual)\n",
        "      if distancia_aux < distancia_mas_corta:\n",
        "        distancia_mas_corta = distancia_aux\n",
        "        posicion_elemento_mas_cercano = [posiciones_elementos[i][0],posiciones_elementos[i][1]]\n",
        "    print(posicion_elemento_mas_cercano)\n",
        "  proxima_posicion_tentativa(caracoles[0],posiciones_elementos[1])\n",
        "    \n",
        "\n",
        "  if segundo_actual == 0: ##basicamente esto indica que cada3 segundos se elimina uno de los lados del mapa\n",
        "    desicion = random.randint(1,4)\n",
        "    if desicion == 1:\n",
        "      mapa = mapa[1:]\n",
        "    elif desicion == 2:\n",
        "      mapa = mapa[:-1]\n",
        "    elif desicion == 3:\n",
        "      for i in range(len(mapa)):\n",
        "        mapa[i] = mapa[1:]\n",
        "    elif desicion == 4:\n",
        "      for i in range(len(mapa)):\n",
        "        mapa[i] = mapa[:-1]\n",
        "\n",
        "  return mapa\n",
        "  \n"
      ]
    },
    {
      "cell_type": "markdown",
      "source": [
        "A continuación creo las clases, con un método que genera una posición inicial"
      ],
      "metadata": {
        "id": "haFEIP9Qx5iR"
      }
    },
    {
      "cell_type": "code",
      "source": [
        "class Caracol:\n",
        "  def __init__(self,id):\n",
        "    self.id = id\n",
        "  \n",
        "  def posicion_inicial(self,matriz): \n",
        "    y = random.randint(0,len(matriz)-1)\n",
        "    x = random.randint(0,len(matriz[0])-1)\n",
        "    while matriz[y][x] != \"_\":\n",
        "      y = random.randint(0,len(matriz)-1)\n",
        "      x = random.randint(0,len(matriz[0])-1)\n",
        "      \n",
        "    return [y,x]\n",
        "\n",
        "class Caracol_rojo(Caracol):  ##Busca ir hacia el diamante más cercano\n",
        "  def __init__(self,id):\n",
        "    Caracol.__init__(self,id)\n",
        "    self.letra_color = \"R\"\n",
        "    self.historial_posiciones = []\n",
        "\n",
        "class Caracol_amarillo(Caracol): ##busca ir hacia el cofre más cercano\n",
        "  def __init__(self,id):\n",
        "    Caracol.__init__(self,id)\n",
        "    self.letra_color = \"A\"\n",
        "    self.historial_posiciones = []\n",
        "  \n",
        "class Caracol_cafe(Caracol): ##busca juntar el punto más cercano y se va a la zona segura\n",
        "  def __init__(self,id):\n",
        "    Caracol.__init__(self,id)\n",
        "    self.letra_color = \"V\"\n",
        "    self.historial_posiciones = []"
      ],
      "metadata": {
        "id": "YoSdGHrMwZq7"
      },
      "execution_count": 2,
      "outputs": []
    },
    {
      "cell_type": "markdown",
      "source": [
        "A continuación se encuentra el \"main\""
      ],
      "metadata": {
        "id": "M89sAWjHyBr9"
      }
    },
    {
      "cell_type": "code",
      "source": [
        "\n",
        "\n",
        "mapa,posiciones_elementos = crear_matriz()\n",
        "\n",
        "lista_caracoles_objetos = [] ### en esta se guardan todas las instancias de los objetos, haciendo más facil despues mover a los caracoles durante el juego\n",
        "\n",
        "mapa_con_caracoles = agregar_caracoles(mapa,lista_caracoles_objetos)\n",
        "\n",
        "imprimir_matriz(mapa_con_caracoles)\n",
        "\n",
        "\n",
        "\n"
      ],
      "metadata": {
        "colab": {
          "base_uri": "https://localhost:8080/"
        },
        "id": "3FnnogsDwdxK",
        "outputId": "f5c23643-a59d-47a0-edb7-deddb5fa687d"
      },
      "execution_count": 5,
      "outputs": [
        {
          "output_type": "stream",
          "name": "stdout",
          "text": [
            "['_', '_', 'M', '_', '_', '_', '_', '_', '_', 'D', 'V', '_', 'F', '_']\n",
            "['_', '_', '_', '_', '_', 'X', '_', '_', '_', '_', '_', 'V', '_', '_']\n",
            "['_', '_', '_', '_', '_', '_', '_', 'F', '_', '_', '_', '_', '_', 'V']\n",
            "['_', '_', '_', '_', '_', '_', '_', '_', 'D', '_', 'V', '_', 'R', '_']\n",
            "['F', '_', '_', 'R', '_', 'Z', 'Z', 'Z', 'Z', '_', '_', 'F', '_', 'D']\n",
            "['_', '_', '_', '_', '_', 'Z', 'Z', 'Z', 'Z', '_', 'A', '_', '_', '_']\n",
            "['_', 'X', '_', '_', '_', 'M', '_', '_', '_', 'M', '_', '_', '_', '_']\n",
            "['_', '_', '_', '_', '_', 'R', '_', '_', '_', 'F', 'X', '_', 'D', '_']\n",
            "['_', 'A', 'X', '_', '_', '_', '_', 'V', '_', '_', '_', '_', '_', 'F']\n",
            "['V', '_', '_', '_', 'D', '_', '_', 'D', 'V', 'D', 'V', '_', '_', '_']\n",
            "['A', '_', 'X', '_', '_', '_', 'A', '_', '_', '_', 'R', '_', '_', '_']\n"
          ]
        }
      ]
    }
  ]
}